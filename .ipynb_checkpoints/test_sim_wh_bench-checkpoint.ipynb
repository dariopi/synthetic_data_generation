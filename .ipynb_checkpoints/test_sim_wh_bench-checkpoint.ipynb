{
 "cells": [
  {
   "cell_type": "code",
   "execution_count": 1,
   "id": "df653a7d",
   "metadata": {},
   "outputs": [
    {
     "ename": "ModuleNotFoundError",
     "evalue": "No module named 'control'",
     "output_type": "error",
     "traceback": [
      "\u001b[1;31m---------------------------------------------------------------------------\u001b[0m",
      "\u001b[1;31mModuleNotFoundError\u001b[0m                       Traceback (most recent call last)",
      "\u001b[1;32m~\\AppData\\Local\\Temp\\ipykernel_25712\\1917748495.py\u001b[0m in \u001b[0;36m<module>\u001b[1;34m\u001b[0m\n\u001b[0;32m      4\u001b[0m \u001b[1;32mimport\u001b[0m \u001b[0mnumpy\u001b[0m \u001b[1;32mas\u001b[0m \u001b[0mnp\u001b[0m\u001b[1;33m\u001b[0m\u001b[1;33m\u001b[0m\u001b[0m\n\u001b[0;32m      5\u001b[0m \u001b[1;32mimport\u001b[0m \u001b[0mpandas\u001b[0m \u001b[1;32mas\u001b[0m \u001b[0mpd\u001b[0m\u001b[1;33m\u001b[0m\u001b[1;33m\u001b[0m\u001b[0m\n\u001b[1;32m----> 6\u001b[1;33m \u001b[1;32mfrom\u001b[0m \u001b[0mdataset\u001b[0m \u001b[1;32mimport\u001b[0m \u001b[0mWHDataset\u001b[0m\u001b[1;33m\u001b[0m\u001b[1;33m\u001b[0m\u001b[0m\n\u001b[0m\u001b[0;32m      7\u001b[0m \u001b[1;32mfrom\u001b[0m \u001b[0mtorch\u001b[0m\u001b[1;33m.\u001b[0m\u001b[0mutils\u001b[0m\u001b[1;33m.\u001b[0m\u001b[0mdata\u001b[0m \u001b[1;32mimport\u001b[0m \u001b[0mDataLoader\u001b[0m\u001b[1;33m\u001b[0m\u001b[1;33m\u001b[0m\u001b[0m\n\u001b[0;32m      8\u001b[0m \u001b[1;32mimport\u001b[0m \u001b[0mmatplotlib\u001b[0m\u001b[1;33m\u001b[0m\u001b[1;33m\u001b[0m\u001b[0m\n",
      "\u001b[1;32m~\\Desktop\\Lavoro\\RecentWork\\dynoGPT_augmented\\dataset.py\u001b[0m in \u001b[0;36m<module>\u001b[1;34m\u001b[0m\n\u001b[0;32m      3\u001b[0m \u001b[1;32mimport\u001b[0m \u001b[0mnumpy\u001b[0m \u001b[1;32mas\u001b[0m \u001b[0mnp\u001b[0m\u001b[1;33m\u001b[0m\u001b[1;33m\u001b[0m\u001b[0m\n\u001b[0;32m      4\u001b[0m \u001b[1;32mfrom\u001b[0m \u001b[0mtorch\u001b[0m\u001b[1;33m.\u001b[0m\u001b[0mutils\u001b[0m\u001b[1;33m.\u001b[0m\u001b[0mdata\u001b[0m \u001b[1;32mimport\u001b[0m \u001b[0mDataLoader\u001b[0m\u001b[1;33m,\u001b[0m \u001b[0mIterableDataset\u001b[0m\u001b[1;33m\u001b[0m\u001b[1;33m\u001b[0m\u001b[0m\n\u001b[1;32m----> 5\u001b[1;33m \u001b[1;32mimport\u001b[0m \u001b[0mcontrol\u001b[0m  \u001b[1;31m# pip install python-control, pip install slycot (optional)\u001b[0m\u001b[1;33m\u001b[0m\u001b[1;33m\u001b[0m\u001b[0m\n\u001b[0m\u001b[0;32m      6\u001b[0m \u001b[1;32mfrom\u001b[0m \u001b[0mlti\u001b[0m \u001b[1;32mimport\u001b[0m \u001b[0mdrss_matrices\u001b[0m\u001b[1;33m,\u001b[0m \u001b[0mdlsim\u001b[0m\u001b[1;33m\u001b[0m\u001b[1;33m\u001b[0m\u001b[0m\n\u001b[0;32m      7\u001b[0m \u001b[1;33m\u001b[0m\u001b[0m\n",
      "\u001b[1;31mModuleNotFoundError\u001b[0m: No module named 'control'"
     ]
    }
   ],
   "source": [
    "from pathlib import Path\n",
    "import time\n",
    "import torch\n",
    "import numpy as np\n",
    "import pandas as pd\n",
    "from dataset import WHDataset\n",
    "from torch.utils.data import DataLoader\n",
    "import matplotlib\n",
    "import matplotlib.pyplot as plt\n",
    "from transformer_sim import Config, TSTransformer\n",
    "import metrics\n",
    "import scipy.io as sio"
   ]
  },
  {
   "cell_type": "code",
   "execution_count": null,
   "id": "ad041070",
   "metadata": {},
   "outputs": [],
   "source": [
    "fig_path = Path(\"fig\")\n",
    "fig_path.mkdir(exist_ok=True)"
   ]
  },
  {
   "cell_type": "code",
   "execution_count": null,
   "id": "a0a10f05",
   "metadata": {},
   "outputs": [],
   "source": [
    "# Fix all random sources to make script fully reproducible\n",
    "torch.manual_seed(420)\n",
    "np.random.seed(430)\n",
    "system_seed = 430 # Controls the system generation\n",
    "data_seed = 0 # Controls the input generation"
   ]
  },
  {
   "cell_type": "code",
   "execution_count": null,
   "id": "6a235fd7",
   "metadata": {},
   "outputs": [],
   "source": [
    "# Overall settings\n",
    "out_dir = \"out\"\n",
    "\n",
    "# System settings\n",
    "nu = 1\n",
    "ny = 1\n",
    "#seq_len = 600\n",
    "batch_size = 256 #32 # 256\n",
    "fixed_system = False # Are we testing on a fixed system?\n",
    "\n",
    "# Compute settings\n",
    "cuda_device = \"cuda:0\"\n",
    "no_cuda = True\n",
    "threads = 5\n",
    "compile = False\n",
    "\n",
    "# Configure compute\n",
    "torch.set_num_threads(threads) \n",
    "use_cuda = not no_cuda and torch.cuda.is_available()\n",
    "device_name  = cuda_device if use_cuda else \"cpu\"\n",
    "device = torch.device(device_name)\n",
    "device_type = 'cuda' if 'cuda' in device_name else 'cpu' # for later use in torch.autocast\n",
    "torch.set_float32_matmul_precision(\"high\")"
   ]
  },
  {
   "cell_type": "code",
   "execution_count": null,
   "id": "4e2e74cf",
   "metadata": {},
   "outputs": [],
   "source": [
    "data = sio.loadmat(Path(\"WienerHammerstein2009Files\") / \"WienerHammerBenchMark.mat\")"
   ]
  },
  {
   "cell_type": "code",
   "execution_count": null,
   "id": "753ecf1a",
   "metadata": {},
   "outputs": [],
   "source": [
    "u = data[\"uBenchMark\"]\n",
    "y = data[\"yBenchMark\"]"
   ]
  },
  {
   "cell_type": "code",
   "execution_count": null,
   "id": "e165ef70",
   "metadata": {},
   "outputs": [],
   "source": [
    "plt.plot(u)\n",
    "plt.plot(y)"
   ]
  },
  {
   "cell_type": "code",
   "execution_count": null,
   "id": "379f2bbc",
   "metadata": {},
   "outputs": [],
   "source": [
    "\n",
    "n_train = 100_000\n",
    "\n",
    "um, ustd = u[:n_train].mean(), u[:n_train].std()\n",
    "u_z = (u - um)/ustd\n",
    "\n",
    "\n",
    "ym, ystd = y[:n_train].mean(), y[:n_train].std()\n",
    "y_z = (y - ym)/ystd"
   ]
  },
  {
   "cell_type": "code",
   "execution_count": null,
   "id": "060850e8",
   "metadata": {},
   "outputs": [],
   "source": [
    "plt.plot(u_z)\n",
    "plt.plot(y_z)"
   ]
  },
  {
   "cell_type": "code",
   "execution_count": null,
   "id": "69ad2d3e",
   "metadata": {},
   "outputs": [],
   "source": [
    "# Create out dir\n",
    "out_dir = Path(out_dir)\n",
    "#exp_data = torch.load(out_dir / \"ckpt_sim_wh_100_scratch.pt\", map_location=device)\n",
    "#exp_data = torch.load(out_dir / \"ckpt_sim_wh_1000_pre.pt\", map_location=device)\n",
    "exp_data = torch.load(out_dir / \"ckpt_sim_wh_1000_pre_final.pt\", map_location=device)\n",
    "cfg = exp_data[\"cfg\"]\n",
    "# For compatibility with initial experiment without seed\n",
    "try:\n",
    "    cfg.seed\n",
    "except AttributeError:\n",
    "    cfg.seed = None"
   ]
  },
  {
   "cell_type": "code",
   "execution_count": null,
   "id": "0c029f10",
   "metadata": {},
   "outputs": [],
   "source": [
    "seq_len = cfg.seq_len_ctx + cfg.seq_len_new\n",
    "nx = cfg.nx"
   ]
  },
  {
   "cell_type": "code",
   "execution_count": null,
   "id": "a29395ad",
   "metadata": {},
   "outputs": [],
   "source": [
    "loss_smooth = pd.Series(exp_data[\"LOSS\"]).rolling(100).mean()\n",
    "plt.figure()\n",
    "plt.plot(exp_data[\"LOSS\"], label=\"TRAINING_LOSS\")\n",
    "plt.plot(loss_smooth, label=\"TRAINING_LOSS_SMOOTH\");"
   ]
  },
  {
   "cell_type": "code",
   "execution_count": null,
   "id": "34332c1a",
   "metadata": {},
   "outputs": [],
   "source": [
    "model_args = exp_data[\"model_args\"]\n",
    "conf = Config(**model_args)\n",
    "model = TSTransformer(conf).to(device)\n",
    "model.load_state_dict(exp_data[\"model\"]);"
   ]
  },
  {
   "cell_type": "code",
   "execution_count": null,
   "id": "a2f5f07e",
   "metadata": {},
   "outputs": [],
   "source": [
    "seq_len = cfg.seq_len_ctx + cfg.seq_len_new\n",
    "start_idx = n_train - 400\n",
    "batch_u = torch.tensor(u_z[None, start_idx:start_idx + seq_len]).float()\n",
    "batch_y = torch.tensor(y_z[None, start_idx:start_idx + seq_len]).float()\n",
    "\n",
    "batch_y_unsc = y[None, start_idx:start_idx + seq_len]"
   ]
  },
  {
   "cell_type": "code",
   "execution_count": null,
   "id": "8f80625a",
   "metadata": {},
   "outputs": [],
   "source": [
    "\n",
    "batch_y = batch_y.to(device)\n",
    "batch_u = batch_u.to(device)\n",
    "noise_std = 0.0\n",
    "with torch.no_grad():\n",
    "    batch_y_ctx = batch_y[:, :cfg.seq_len_ctx, :]\n",
    "    batch_u_ctx = batch_u[:, :cfg.seq_len_ctx, :]\n",
    "    batch_y_new = batch_y[:, cfg.seq_len_ctx:, :]\n",
    "    batch_u_new = batch_u[:, cfg.seq_len_ctx:, :]\n",
    "    batch_y_ctx = batch_y_ctx + torch.randn(batch_y_ctx.shape)*noise_std\n",
    "    batch_y_mean, batch_y_std, _ = model(batch_y_ctx, batch_u_ctx, batch_u_new)\n",
    "\n",
    "batch_y_new_unsc = batch_y_unsc[:, cfg.seq_len_ctx:, :]"
   ]
  },
  {
   "cell_type": "code",
   "execution_count": null,
   "id": "f6eef187",
   "metadata": {},
   "outputs": [],
   "source": [
    "batch_y_mean = batch_y_mean.to(\"cpu\").detach().numpy()\n",
    "batch_y_std = batch_y_std.to(\"cpu\").detach().numpy()\n",
    "batch_y_new = batch_y_new.to(\"cpu\").detach().numpy()\n",
    "batch_u_new = batch_u_new.to(\"cpu\").detach().numpy()"
   ]
  },
  {
   "cell_type": "code",
   "execution_count": null,
   "id": "15e9b2b7",
   "metadata": {},
   "outputs": [],
   "source": [
    "batch_sim_err = batch_y_new[:, :, :] - batch_y_mean[:, :, :]\n",
    "batch_y_plus = batch_y_mean + batch_y_std * 3\n",
    "batch_y_minus = batch_y_mean - batch_y_std * 3"
   ]
  },
  {
   "cell_type": "code",
   "execution_count": null,
   "id": "7225d5f4",
   "metadata": {},
   "outputs": [],
   "source": [
    "t = np.arange(start_idx+cfg.seq_len_ctx, start_idx+seq_len)"
   ]
  },
  {
   "cell_type": "code",
   "execution_count": null,
   "id": "dbe4be88",
   "metadata": {},
   "outputs": [],
   "source": [
    "fig, ax = plt.subplots(2, 1, figsize=(10, 7))\n",
    "idx = 0\n",
    "ax[0].plot(t, batch_y_new[idx, :, :], 'k', label=\"$y$\")\n",
    "ax[0].plot(t, batch_y_mean[idx, :, :], 'b', label=\"$\\hat y$\")\n",
    "ax[0].fill_between(x=t, y1=batch_y_minus[idx, :, 0], y2=batch_y_plus[idx, :, 0], color=\"blue\", alpha=0.2)\n",
    "ax[0].plot(t, batch_sim_err[idx, :, :], 'r', label=\"$y - \\hat y$\")\n",
    "ax[0].grid(True)\n",
    "ax[0].set_xlabel(\"time step (-)\")\n",
    "ax[0].legend(bbox_to_anchor=(1.05, 1), loc=2, borderaxespad=0.)\n",
    "ax[1].plot(t, batch_u_new[idx, :, :], 'k')\n",
    "ax[1].grid(True)\n",
    "plt.tight_layout()\n",
    "plt.savefig(fig_path / \"wh_sim_single.pdf\")\n",
    "#plt.xlim([1000, 1100])"
   ]
  },
  {
   "cell_type": "code",
   "execution_count": null,
   "id": "f2aab2c2",
   "metadata": {},
   "outputs": [],
   "source": [
    "plt.figure(figsize=(5, 2.5))\n",
    "#plt.ylim([-3, 3])\n",
    "plt.plot(t, batch_y_new.squeeze(-1).T, \"k\", alpha=0.5);\n",
    "plt.plot(t, np.nan*np.zeros(t.shape), \"k\", alpha=1.0, label=\"$y$\")\n",
    "plt.plot(t, batch_sim_err.squeeze(-1).T, \"r\", alpha=0.2);\n",
    "plt.plot(t, np.nan*np.zeros(t.shape), \"r\", alpha=1.0, label=\"$y - \\hat y$\");\n",
    "plt.grid(True)\n",
    "plt.xlabel(\"time step (-)\")\n",
    "plt.legend(bbox_to_anchor=(1.05, 1), loc=2, borderaxespad=0.)\n",
    "plt.tight_layout()\n",
    "plt.savefig(fig_path / \"wh_sim_batch.pdf\")"
   ]
  },
  {
   "cell_type": "code",
   "execution_count": null,
   "id": "45efd5d3",
   "metadata": {},
   "outputs": [],
   "source": [
    "#matplotlib.rc('font', **{'family': 'sans-serif', 'sans-serif': ['Helvetica'], 'size': 14})\n",
    "#matplotlib.rc('text', usetex=True)\n",
    "#matplotlib.rc('axes', grid=True)\n",
    "\n",
    "fix, ax = plt.subplots(1,2, sharex=True, sharey=False, figsize=(7, 2.2))\n",
    "ax[0].plot(t, batch_y_new.squeeze(-1).T, \"k\", alpha=0.5);\n",
    "ax[0].plot(t, np.nan*np.zeros(t.shape), \"k\", alpha=1.0, label=\"$y$\")\n",
    "ax[0].plot(t, batch_sim_err.squeeze(-1).T, \"r\", alpha=0.1);\n",
    "ax[0].plot(t, np.nan*np.zeros(t.shape), \"r\", alpha=1.0, label=\"$y-\\hat y$\")\n",
    "ax[0].set_ylim((-5.7, 5.7))\n",
    "ax[0].set_xlabel(\"time step (-)\");\n",
    "\n",
    "ax[1].plot(t, batch_y_new[idx, :, :], 'k', label=\"$y$\")\n",
    "ax[1].plot(t, batch_y_mean[idx, :, :], 'b', label=\"$\\hat y$\")\n",
    "ax[1].fill_between(x=t, y1=batch_y_minus[idx, :, 0], y2=batch_y_plus[idx, :, 0], color=\"blue\", alpha=0.2)\n",
    "ax[1].plot(t, batch_sim_err[idx, :, :], 'r', label=\"$y - \\hat y$\")\n",
    "ax[1].set_xlabel(\"time step (-)\")\n",
    "ax[1].legend(bbox_to_anchor=(1.05, 1), loc=2, borderaxespad=0.)\n",
    "plt.tight_layout()\n",
    "plt.savefig(fig_path / \"wh_sim_batch_single.pdf\")\n",
    "plt.savefig(fig_path / \"wh_sim_batch_single.png\")"
   ]
  },
  {
   "cell_type": "code",
   "execution_count": null,
   "id": "6380a26e",
   "metadata": {},
   "outputs": [],
   "source": [
    "skip = 0\n",
    "rmse = metrics.rmse(batch_y_new, batch_y_mean, time_axis=1)"
   ]
  },
  {
   "cell_type": "code",
   "execution_count": null,
   "id": "4bed104b",
   "metadata": {},
   "outputs": [],
   "source": [
    "fit = metrics.fit_index(batch_y_new, batch_y_mean, time_axis=1)\n",
    "fit"
   ]
  },
  {
   "cell_type": "code",
   "execution_count": null,
   "id": "ce75ff31",
   "metadata": {},
   "outputs": [],
   "source": [
    "print(f'iterations: {exp_data[\"cfg\"].max_iters}')\n",
    "print(f'train_time: {exp_data[\"train_time\"]/3600/24} days')\n",
    "print(f'rmse: {rmse.mean()}')"
   ]
  },
  {
   "cell_type": "code",
   "execution_count": null,
   "id": "5f8121e8",
   "metadata": {},
   "outputs": [],
   "source": [
    "batch_y_mean_= batch_y_mean*ystd + ym\n",
    "batch_y_new_ = batch_y_new*ystd + ym"
   ]
  },
  {
   "cell_type": "code",
   "execution_count": null,
   "id": "a7a18335",
   "metadata": {},
   "outputs": [],
   "source": [
    "#batch_y_new_ - batch_y_new_unsc"
   ]
  },
  {
   "cell_type": "code",
   "execution_count": null,
   "id": "94241285",
   "metadata": {},
   "outputs": [],
   "source": [
    "fit = metrics.fit_index(batch_y_new_, batch_y_mean_, time_axis=1)\n",
    "fit"
   ]
  },
  {
   "cell_type": "code",
   "execution_count": null,
   "id": "e6a6d519",
   "metadata": {},
   "outputs": [],
   "source": [
    "rmse = metrics.rmse(batch_y_new_, batch_y_mean_, time_axis=1)\n",
    "rmse*1000 # mV"
   ]
  },
  {
   "cell_type": "code",
   "execution_count": null,
   "id": "0e7e720f",
   "metadata": {},
   "outputs": [],
   "source": [
    "ystd"
   ]
  }
 ],
 "metadata": {
  "kernelspec": {
   "display_name": "Python 3 (ipykernel)",
   "language": "python",
   "name": "python3"
  },
  "language_info": {
   "codemirror_mode": {
    "name": "ipython",
    "version": 3
   },
   "file_extension": ".py",
   "mimetype": "text/x-python",
   "name": "python",
   "nbconvert_exporter": "python",
   "pygments_lexer": "ipython3",
   "version": "3.9.13"
  }
 },
 "nbformat": 4,
 "nbformat_minor": 5
}
